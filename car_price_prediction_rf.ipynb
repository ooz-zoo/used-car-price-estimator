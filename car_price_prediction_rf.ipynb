{
 "cells": [
  {
   "cell_type": "markdown",
   "id": "a6024bc4",
   "metadata": {},
   "source": [
    "# Used car price predictor"
   ]
  },
  {
   "cell_type": "code",
   "execution_count": 97,
   "id": "5ae50051-89e5-4ee7-b6e1-e5639cd913ec",
   "metadata": {},
   "outputs": [
    {
     "name": "stdout",
     "output_type": "stream",
     "text": [
      "The predicted price for the car is: ($) 27485.84\n"
     ]
    }
   ],
   "source": [
    "import pandas as pd\n",
    "from sklearn.ensemble import RandomForestRegressor\n",
    "from sklearn.preprocessing import OrdinalEncoder\n",
    "import joblib\n",
    "\n",
    "# Load and preprocess the dataset\n",
    "data = pd.read_csv('Auto_Dataset.csv', encoding='unicode_escape')\n",
    "data['price'] = data['price'].replace({'\\\\$': '', ',': ''}, regex=True).astype(float)\n",
    "data['odometer'] = data['odometer'].str.replace('km', '').str.replace(',', '').astype(float)\n",
    "\n",
    "# Drop unnecessary columns and handle missing values\n",
    "data = data.drop(columns=['dateCrawled', 'seller', 'offerType', 'abtest', 'dateCreated', 'nrOfPictures', 'postalCode', 'lastSeen']).dropna()\n",
    "\n",
    "# Encode categorical columns\n",
    "ordinal_encoders = {}\n",
    "for column in data.select_dtypes(include=['object']).columns:\n",
    "    encoder = OrdinalEncoder(handle_unknown='use_encoded_value', unknown_value=-1)\n",
    "    data[column] = encoder.fit_transform(data[[column]])\n",
    "    ordinal_encoders[column] = encoder\n",
    "\n",
    "# Train a Random Forest model\n",
    "X = data.drop(columns=['price'])\n",
    "y = data['price']\n",
    "model = RandomForestRegressor(n_estimators=100, random_state=42)\n",
    "model.fit(X, y)\n",
    "\n",
    "# Save the model\n",
    "joblib.dump(model, 'random_forest_model.pkl')\n",
    "\n",
    "# Prepare test input that we want to predict\n",
    "test_input = pd.DataFrame({\n",
    "    'year': [2010],\n",
    "    'odometer': [150000],\n",
    "    'fuelType': ['diesel'],\n",
    "    'gearbox': ['manuell'],\n",
    "    'brand': ['ford']\n",
    "})\n",
    "\n",
    "# Ensure test input has all features and encode categorical columns\n",
    "test_input = test_input.reindex(columns=X.columns, fill_value=0)\n",
    "for column in test_input.select_dtypes(include=['object']).columns:\n",
    "    test_input[column] = ordinal_encoders[column].transform(test_input[[column]])\n",
    "\n",
    "# Predict car price\n",
    "predicted_price = model.predict(test_input)\n",
    "\n",
    "# Print the predicted price\n",
    "print('The predicted price for the car is: ($)', predicted_price[0])\n"
   ]
  },
  {
   "cell_type": "code",
   "execution_count": 98,
   "id": "d3cc3348-bacf-47da-abe1-009ba67cb972",
   "metadata": {},
   "outputs": [
    {
     "name": "stdout",
     "output_type": "stream",
     "text": [
      "The predicted price for the second car is: ($) 26457.78\n"
     ]
    }
   ],
   "source": [
    "# Prepare test input for a different car to compare prices when values are changed\n",
    "car_2_input = pd.DataFrame({\n",
    "    'year': [2000],               \n",
    "    'odometer': [10000],          \n",
    "    'fuelType': ['benzin'],        \n",
    "    'gearbox': ['automatik'],        \n",
    "    'brand': ['ford']              \n",
    "})\n",
    "\n",
    "# Ensure test input has all features and encode categorical columns\n",
    "car_2_input = car_2_input.reindex(columns=X.columns, fill_value=0)\n",
    "for column in car_2_input.select_dtypes(include=['object']).columns:\n",
    "    car_2_input[column] = ordinal_encoders[column].transform(car_2_input[[column]])\n",
    "\n",
    "# Predict car price for the second car\n",
    "car_2_predicted_price = model.predict(car_2_input)\n",
    "\n",
    "# Print the predicted price for the second car\n",
    "print('The predicted price for the second car is: ($)', car_2_predicted_price[0])"
   ]
  },
  {
   "cell_type": "markdown",
   "id": "2eaabf2a",
   "metadata": {},
   "source": [
    "Conclusion\n",
    "In the first scenario, the car with a 2010 model year, 150,000 kilometers on the odometer, and a diesel engine with a manual gearbox was predicted to have a price of $27,485.84. This result reflects the influence of various features such as the model year, mileage, fuel type, and gearbox type on the car's market value. Given that the car is relatively newer and has a high mileage, it falls within a moderate price range for used vehicles of this type.\n",
    "In the second scenario, when the input features were altered for a car from the year 2000, with only 10,000 kilometers on the odometer, a petrol engine, and an automatic gearbox, the predicted price dropped to $26,457.78. Despite the car's lower mileage, the older model year and changes in fuel type and gearbox type result in a slightly lower price compared to the first car. This suggests that the model values the combination of newer years and higher mileage higher than older cars with lower mileage, showing the complex interplay of these features in car price prediction."
   ]
  }
 ],
 "metadata": {
  "kernelspec": {
   "display_name": "Python 3 (ipykernel)",
   "language": "python",
   "name": "python3"
  },
  "language_info": {
   "codemirror_mode": {
    "name": "ipython",
    "version": 3
   },
   "file_extension": ".py",
   "mimetype": "text/x-python",
   "name": "python",
   "nbconvert_exporter": "python",
   "pygments_lexer": "ipython3",
   "version": "3.12.4"
  }
 },
 "nbformat": 4,
 "nbformat_minor": 5
}
